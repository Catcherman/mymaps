{
 "metadata": {
  "name": "",
  "signature": "sha256:ca275c9f843ae6057e321403858c7ec6cfca72aeaa0d6e89ab89f7af27c6f3ff"
 },
 "nbformat": 3,
 "nbformat_minor": 0,
 "worksheets": [
  {
   "cells": [
    {
     "cell_type": "heading",
     "level": 1,
     "metadata": {},
     "source": [
      "\u7b2c\u4e00\u4e2a\u4f8b\u5b50"
     ]
    },
    {
     "cell_type": "heading",
     "level": 2,
     "metadata": {},
     "source": [
      "scrapy"
     ]
    },
    {
     "cell_type": "code",
     "collapsed": false,
     "input": [
      "!scrapy "
     ],
     "language": "python",
     "metadata": {},
     "outputs": [
      {
       "output_type": "stream",
       "stream": "stdout",
       "text": [
        "Scrapy 1.0.4 - no active project\r\n",
        "\r\n",
        "Usage:\r\n",
        "  scrapy <command> [options] [args]\r\n",
        "\r\n",
        "Available commands:\r\n",
        "  bench         Run quick benchmark test\r\n",
        "  commands      \r\n",
        "  fetch         Fetch a URL using the Scrapy downloader\r\n",
        "  runspider     Run a self-contained spider (without creating a project)\r\n",
        "  settings      Get settings values\r\n",
        "  shell         Interactive scraping console\r\n",
        "  startproject  Create new project\r\n",
        "  version       Print Scrapy version\r\n",
        "  view          Open URL in browser, as seen by Scrapy\r\n",
        "\r\n",
        "  [ more ]      More commands available when run from project directory\r\n",
        "\r\n",
        "Use \"scrapy <command> -h\" to see more info about a command\r\n"
       ]
      }
     ],
     "prompt_number": 3
    },
    {
     "cell_type": "markdown",
     "metadata": {},
     "source": [
      "\u5b89\u88c5version_information\n",
      "--"
     ]
    },
    {
     "cell_type": "code",
     "collapsed": false,
     "input": [
      "%install_ext http://raw.github.com/jrjohansson/version_information/master/version_information.py "
     ],
     "language": "python",
     "metadata": {},
     "outputs": [
      {
       "output_type": "stream",
       "stream": "stdout",
       "text": [
        "Installed version_information.py. To use it, type:\n",
        "  %load_ext version_information\n"
       ]
      }
     ],
     "prompt_number": 2
    },
    {
     "cell_type": "markdown",
     "metadata": {},
     "source": [
      "\u52a0\u8f7dversion_information\n",
      "--"
     ]
    },
    {
     "cell_type": "code",
     "collapsed": false,
     "input": [
      "%load_ext version_information"
     ],
     "language": "python",
     "metadata": {},
     "outputs": [],
     "prompt_number": 33
    },
    {
     "cell_type": "code",
     "collapsed": false,
     "input": [
      "%version_information scrapy, numpy, scipy, matplotlib, sympy"
     ],
     "language": "python",
     "metadata": {},
     "outputs": [
      {
       "html": [
        "<table><tr><th>Software</th><th>Version</th></tr><tr><td>Python</td><td>2.7.10 64bit [GCC 5.2.1 20151010]</td></tr><tr><td>IPython</td><td>2.3.0</td></tr><tr><td>OS</td><td>Linux 4.2.0 22 generic x86_64 with Ubuntu 15.10 wily</td></tr><tr><td>scrapy</td><td>1.0.4</td></tr><tr><td>numpy</td><td>1.9.2</td></tr><tr><td>scipy</td><td>0.14.1</td></tr><tr><td>matplotlib</td><td>1.5.0</td></tr><tr><td>sympy</td><td>The 'sympy' distribution was not found and is required by the application</td></tr><tr><td colspan='2'>\u4e00  1\u6708 04 16:34:45 2016 CST</td></tr></table>"
       ],
       "json": [
        "{\"Software versions\": [{\"version\": \"2.7.10 64bit [GCC 5.2.1 20151010]\", \"module\": \"Python\"}, {\"version\": \"2.3.0\", \"module\": \"IPython\"}, {\"version\": \"Linux 4.2.0 22 generic x86_64 with Ubuntu 15.10 wily\", \"module\": \"OS\"}, {\"version\": \"1.0.4\", \"module\": \"scrapy\"}, {\"version\": \"1.9.2\", \"module\": \"numpy\"}, {\"version\": \"0.14.1\", \"module\": \"scipy\"}, {\"version\": \"1.5.0\", \"module\": \"matplotlib\"}, {\"version\": \"The 'sympy' distribution was not found and is required by the application\", \"module\": \"sympy\"}]}"
       ],
       "latex": [
        "\\begin{tabular}{|l|l|}\\hline\n",
        "{\\bf Software} & {\\bf Version} \\\\ \\hline\\hline\n",
        "Python & 2.7.10 64bit [GCC 5.2.1 20151010] \\\\ \\hline\n",
        "IPython & 2.3.0 \\\\ \\hline\n",
        "OS & Linux 4.2.0 22 generic x86\\_64 with Ubuntu 15.10 wily \\\\ \\hline\n",
        "scrapy & 1.0.4 \\\\ \\hline\n",
        "numpy & 1.9.2 \\\\ \\hline\n",
        "scipy & 0.14.1 \\\\ \\hline\n",
        "matplotlib & 1.5.0 \\\\ \\hline\n",
        "sympy & The 'sympy' distribution was not found and is required by the application \\\\ \\hline\n",
        "\\hline \\multicolumn{2}{|l|}{\u4e00  1\u6708 04 16:34:45 2016 CST} \\\\ \\hline\n",
        "\\end{tabular}\n"
       ],
       "metadata": {},
       "output_type": "pyout",
       "prompt_number": 34,
       "text": [
        "Software versions\n",
        "Python 2.7.10 64bit [GCC 5.2.1 20151010]\n",
        "IPython 2.3.0\n",
        "OS Linux 4.2.0 22 generic x86_64 with Ubuntu 15.10 wily\n",
        "scrapy 1.0.4\n",
        "numpy 1.9.2\n",
        "scipy 0.14.1\n",
        "matplotlib 1.5.0\n",
        "sympy The 'sympy' distribution was not found and is required by the application\n",
        "\u4e00  1\u6708 04 16:34:45 2016 CST"
       ]
      }
     ],
     "prompt_number": 34
    },
    {
     "cell_type": "code",
     "collapsed": false,
     "input": [
      "!tree .."
     ],
     "language": "python",
     "metadata": {},
     "outputs": [
      {
       "output_type": "stream",
       "stream": "stdout",
       "text": [
        "\u001b[01;34m..\u001b[00m\r\n",
        "\u251c\u2500\u2500 7\u6708\u4efd\u5b66\u4e60\u8ba1\u5212.xmind\r\n",
        "\u251c\u2500\u2500 \u001b[01;34m7\u54687\u8bed\u8a00\u001b[00m\r\n",
        "\u2502\u00a0\u00a0 \u2514\u2500\u2500 \u001b[01;35mruby.png\u001b[00m\r\n",
        "\u251c\u2500\u2500 \u001b[01;34mC&C++\u001b[00m\r\n",
        "\u2502\u00a0\u00a0 \u251c\u2500\u2500 \u001b[01;35mC++.png\u001b[00m\r\n",
        "\u2502\u00a0\u00a0 \u2514\u2500\u2500 C++.xmind\r\n",
        "\u251c\u2500\u2500 \u001b[01;35mcofeeScript.png\u001b[00m\r\n",
        "\u251c\u2500\u2500 git\u6743\u5a01\u6307\u5357.xmind\r\n",
        "\u251c\u2500\u2500 \u001b[01;35mgit\u601d\u7ef4\u5bfc\u56fe.png\u001b[00m\r\n",
        "\u251c\u2500\u2500 \u001b[01;34mIOS\u001b[00m\r\n",
        "\u2502\u00a0\u00a0 \u251c\u2500\u2500 IOS\u57fa\u7840.xmind\r\n",
        "\u2502\u00a0\u00a0 \u2514\u2500\u2500 iphone\u5f00\u53d1.xmind\r\n",
        "\u251c\u2500\u2500 \u001b[01;34mipython_notebooks\u001b[00m\r\n",
        "\u2502\u00a0\u00a0 \u2514\u2500\u2500 scrapy_____-test.ipynb\r\n"
       ]
      },
      {
       "output_type": "stream",
       "stream": "stdout",
       "text": [
        "\u251c\u2500\u2500 \u001b[01;34mjava\u001b[00m\r\n",
        "\u2502\u00a0\u00a0 \u251c\u2500\u2500 EJB\u4e0eweb\u670d\u52a1\u5668.xmind\r\n",
        "\u2502\u00a0\u00a0 \u251c\u2500\u2500 hibernate\u6846\u67b6.xmind\r\n",
        "\u2502\u00a0\u00a0 \u251c\u2500\u2500 javaWeb\u9ad8\u7ea7.xmind\r\n",
        "\u2502\u00a0\u00a0 \u251c\u2500\u2500 JavaWeb\u57fa\u7840.xmind\r\n",
        "\u2502\u00a0\u00a0 \u251c\u2500\u2500 javaWeb\u5f00\u53d1\u5de5\u5177\u7bc7.xmind\r\n",
        "\u2502\u00a0\u00a0 \u251c\u2500\u2500 java\u7f16\u7a0b\u601d\u60f3.xmind\r\n",
        "\u2502\u00a0\u00a0 \u251c\u2500\u2500 spring\u6846\u67b6.xmind\r\n",
        "\u2502\u00a0\u00a0 \u251c\u2500\u2500 structs\u6846\u67b6.xmind\r\n",
        "\u2502\u00a0\u00a0 \u2514\u2500\u2500 tomcat\u548cjavaweb\u5b9e\u7528\u6559\u7a0b.xmind\r\n",
        "\u251c\u2500\u2500 \u001b[01;34mjs\u001b[00m\r\n",
        "\u2502\u00a0\u00a0 \u2514\u2500\u2500 es6.xmind\r\n",
        "\u251c\u2500\u2500 os\r\n",
        "\u251c\u2500\u2500 \u001b[01;34mpython\u001b[00m\r\n",
        "\u2502\u00a0\u00a0 \u251c\u2500\u2500 django_\u5165\u95e8_\u81ea\u5f3a\u5b66\u5802.xmind\r\n",
        "\u2502\u00a0\u00a0 \u251c\u2500\u2500 \u001b[01;35mpythonModels.png\u001b[00m\r\n",
        "\u2502\u00a0\u00a0 \u251c\u2500\u2500 python\u6838\u5fc3\u7f16\u7a0b\u9ad8\u7ea7.xmind\r\n",
        "\u2502\u00a0\u00a0 \u251c\u2500\u2500 python\u6838\u5fc3\u7f16\u7a0b\u57fa\u7840.xmind\r\n",
        "\u2502\u00a0\u00a0 \u251c\u2500\u2500 python\u722c\u866b.xmind\r\n",
        "\u2502\u00a0\u00a0 \u251c\u2500\u2500 scrapy.xmind\r\n",
        "\u2502\u00a0\u00a0 \u251c\u2500\u2500 tonardo.xmind\r\n",
        "\u2502\u00a0\u00a0 \u2514\u2500\u2500 \u53ef\u7231\u7684python.xmind\r\n",
        "\u251c\u2500\u2500 README.md\r\n",
        "\u251c\u2500\u2500 \u001b[01;34mshell\u001b[00m\r\n",
        "\u2502\u00a0\u00a0 \u251c\u2500\u2500 sed\u548cawk.xmind\r\n",
        "\u2502\u00a0\u00a0 \u2514\u2500\u2500 shell.xmind\r\n",
        "\u251c\u2500\u2500 \u001b[01;34msql\u001b[00m\r\n",
        "\u2502\u00a0\u00a0 \u251c\u2500\u2500 aibang.sql\r\n"
       ]
      },
      {
       "output_type": "stream",
       "stream": "stdout",
       "text": [
        "\u2502\u00a0\u00a0 \u251c\u2500\u2500 appinputcontextmap.sql\r\n",
        "\u2502\u00a0\u00a0 \u251c\u2500\u2500 createtables.sql\r\n",
        "\u2502\u00a0\u00a0 \u251c\u2500\u2500 oamptables_linux.sql\r\n",
        "\u2502\u00a0\u00a0 \u251c\u2500\u2500 oamptables.sql\r\n",
        "\u2502\u00a0\u00a0 \u251c\u2500\u2500 oampUpdate.sql\r\n",
        "\u2502\u00a0\u00a0 \u251c\u2500\u2500 qianyutables_linux.sql\r\n",
        "\u2502\u00a0\u00a0 \u2514\u2500\u2500 qianyuUpdate.sql\r\n",
        "\u251c\u2500\u2500 tomcat.xmind\r\n",
        "\u251c\u2500\u2500 \u001b[01;35mvim.jpg\u001b[00m\r\n",
        "\u251c\u2500\u2500 \u001b[01;34m\u67b6\u6784\u001b[00m\r\n",
        "\u2502\u00a0\u00a0 \u2514\u2500\u2500 \u8bbe\u8ba1\u6a21\u5f0f.xmind\r\n",
        "\u251c\u2500\u2500 \u001b[01;34m\u722c\u866b\u001b[00m\r\n",
        "\u2502\u00a0\u00a0 \u2514\u2500\u2500 \u6dd8\u5b9d\u7ad9\u5916\u722c\u866b.xmind\r\n",
        "\u251c\u2500\u2500 \u6570\u636e\u7ed3\u6784.xmind\r\n",
        "\u2514\u2500\u2500 \u7edf\u8ba1\u81ea\u7136\u8bed\u8a00\u5904\u7406.xmind\r\n",
        "\r\n",
        "11 directories, 46 files\r\n"
       ]
      }
     ],
     "prompt_number": 11
    },
    {
     "cell_type": "code",
     "collapsed": false,
     "input": [
      "import nltk"
     ],
     "language": "python",
     "metadata": {},
     "outputs": [],
     "prompt_number": 2
    },
    {
     "cell_type": "code",
     "collapsed": false,
     "input": [
      "!ls -l --color"
     ],
     "language": "python",
     "metadata": {},
     "outputs": [
      {
       "output_type": "stream",
       "stream": "stdout",
       "text": [
        "\u603b\u7528\u91cf 20\r\n",
        "drwxrwxr-x 5 haoweiguo haoweiguo  4096  1\u6708  4 15:18 \u001b[0m\u001b[01;34mscientific-python-lectures\u001b[0m\r\n",
        "-rw------- 1 haoweiguo haoweiguo 12628  1\u6708  4 15:42 scrapy_____-test.ipynb\r\n"
       ]
      }
     ],
     "prompt_number": 9
    },
    {
     "cell_type": "code",
     "collapsed": false,
     "input": [
      "%pylab inline\n",
      " \n",
      "N = 5\n",
      "menMeans = (20, 35, 30, 35, 27)\n",
      "menStd =   (2, 3, 4, 1, 2)\n",
      " \n",
      "ind = np.arange(N)  # the x locations for the groups\n",
      "width = 0.35       # the width of the bars\n",
      " \n",
      "fig, ax = plt.subplots()\n",
      "rects1 = ax.bar(ind, menMeans, width, color='r', yerr=menStd)\n",
      " \n",
      "womenMeans = (25, 32, 34, 20, 25)\n",
      "womenStd =   (3, 5, 2, 3, 3)\n",
      "rects2 = ax.bar(ind+width, womenMeans, width, color='y', yerr=womenStd)\n",
      " \n",
      "# add some\n",
      "ax.set_ylabel('Scores')\n",
      "ax.set_title('Scores by group and gender')\n",
      "ax.set_xticks(ind+width)\n",
      "ax.set_xticklabels( ('G1', 'G2', 'G3', 'G4', 'G5') )\n",
      " \n",
      "ax.legend( (rects1[0], rects2[0]), ('Men', 'Women') )\n",
      " \n",
      "def autolabel(rects):\n",
      "    # attach some text labels\n",
      "    for rect in rects:\n",
      "        height = rect.get_height()\n",
      "        ax.text(rect.get_x()+rect.get_width()/2., 1.05*height, '%d'%int(height),\n",
      "                ha='center', va='bottom')\n",
      " \n",
      "autolabel(rects1)\n",
      "autolabel(rects2)\n",
      " \n",
      "plt.show()"
     ],
     "language": "python",
     "metadata": {},
     "outputs": [
      {
       "output_type": "stream",
       "stream": "stdout",
       "text": [
        "Populating the interactive namespace from numpy and matplotlib\n"
       ]
      },
      {
       "metadata": {},
       "output_type": "display_data",
       "png": "[encoded data removed]",
       "text": [
        "<matplotlib.figure.Figure at 0x7ff91968f7d0>"
       ]
      }
     ],
     "prompt_number": 31
    },
    {
     "cell_type": "code",
     "collapsed": false,
     "input": [
      "import random\n",
      "a = random.randint(100, 100)\n",
      "plt.plot(a)"
     ],
     "language": "python",
     "metadata": {},
     "outputs": [
      {
       "metadata": {},
       "output_type": "pyout",
       "prompt_number": 21,
       "text": [
        "[<matplotlib.lines.Line2D at 0x7ff9362e5450>]"
       ]
      }
     ],
     "prompt_number": 21
    },
    {
     "cell_type": "code",
     "collapsed": false,
     "input": [
      "%pylab inline\n",
      "\n",
      "mu, sigma = 100, 15\n",
      "x = mu + sigma*np.random.randn(10000)\n",
      "\n",
      "# the histogram of the data\n",
      "n, bins, patches = plt.hist(x, 50, normed=1, facecolor='green', alpha=0.75)\n",
      "\n",
      "# add a 'best fit' line\n",
      "y = mlab.normpdf( bins, mu, sigma)\n",
      "l = plt.plot(bins, y, 'r--', linewidth=1)\n",
      "\n",
      "plt.xlabel('Smarts')\n",
      "plt.ylabel('Probability')\n",
      "plt.title(r'$\\mathrm{Histogram\\ of\\ IQ:}\\ \\mu=100,\\ \\sigma=15$')\n",
      "plt.axis([40, 160, 0, 0.03])\n",
      "plt.grid(True)\n",
      "\n",
      "plt.show()"
     ],
     "language": "python",
     "metadata": {},
     "outputs": [
      {
       "output_type": "stream",
       "stream": "stdout",
       "text": [
        "Populating the interactive namespace from numpy and matplotlib\n"
       ]
      },
      {
       "metadata": {},
       "output_type": "display_data",
       "png": "[encoded data removed]",
       "text": [
        "<matplotlib.figure.Figure at 0x7ff919a5bd90>"
       ]
      }
     ],
     "prompt_number": 28
    },
    {
     "cell_type": "code",
     "collapsed": false,
     "input": [
      "from sympy import *\n",
      "x = Symbol('x')\n",
      "(pi + x)**2"
     ],
     "language": "python",
     "metadata": {},
     "outputs": [
      {
       "metadata": {},
       "output_type": "pyout",
       "prompt_number": 49,
       "text": [
        "(x + pi)**2"
       ]
      }
     ],
     "prompt_number": 49
    },
    {
     "cell_type": "code",
     "collapsed": false,
     "input": [
      "pi.evalf(n=50)"
     ],
     "language": "python",
     "metadata": {},
     "outputs": [
      {
       "metadata": {},
       "output_type": "pyout",
       "prompt_number": 48,
       "text": [
        "3.1415926535897932384626433832795028841971693993751"
       ]
      }
     ],
     "prompt_number": 48
    },
    {
     "cell_type": "code",
     "collapsed": false,
     "input": [
      "for i in range(10):\n",
      "    print i"
     ],
     "language": "python",
     "metadata": {},
     "outputs": [
      {
       "output_type": "stream",
       "stream": "stdout",
       "text": [
        "0\n",
        "1\n",
        "2\n",
        "3\n",
        "4\n",
        "5\n",
        "6\n",
        "7\n",
        "8\n",
        "9\n"
       ]
      }
     ],
     "prompt_number": 1
    },
    {
     "cell_type": "code",
     "collapsed": false,
     "input": [],
     "language": "python",
     "metadata": {},
     "outputs": []
    },
    {
     "cell_type": "code",
     "collapsed": false,
     "input": [],
     "language": "python",
     "metadata": {},
     "outputs": []
    },
    {
     "cell_type": "code",
     "collapsed": false,
     "input": [],
     "language": "python",
     "metadata": {},
     "outputs": []
    },
    {
     "cell_type": "code",
     "collapsed": false,
     "input": [],
     "language": "python",
     "metadata": {},
     "outputs": []
    }
   ],
   "metadata": {}
  }
 ]
}